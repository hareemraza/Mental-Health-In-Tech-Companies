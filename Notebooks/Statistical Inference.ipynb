{
 "cells": [
  {
   "cell_type": "code",
   "execution_count": 1,
   "metadata": {},
   "outputs": [],
   "source": [
    "import numpy as np\n",
    "import pandas as pd\n",
    "import matplotlib.pyplot as plt\n",
    "import seaborn as sns\n",
    "\n",
    "#plots.style.use('fivethirtyeight')\n",
    "%matplotlib inline"
   ]
  },
  {
   "cell_type": "markdown",
   "metadata": {},
   "source": [
    "The prevalence of mental health issues is 0.55 (data from 2017). Assumption we make (difference in years)\n",
    "\n",
    "- Null Hypothesis: The probability that a tech employee surveyed having mental health issues is equivalent to the prevalence of mental health issues within the tech-workplace population. (i.e., any difference between the study prevalence and population prevalence is due to random chance in the selection of the participants)\n",
    "\n",
    "- Alternative Hypothesis: The probability that tech employee surveyed having mental health issues is different than the prevalence of mental health issues within the tech-workplace population.\n"
   ]
  },
  {
   "cell_type": "code",
   "execution_count": 2,
   "metadata": {},
   "outputs": [],
   "source": [
    "data_tech = pd.read_pickle('data_tech.pkl')"
   ]
  },
  {
   "cell_type": "code",
   "execution_count": 3,
   "metadata": {},
   "outputs": [],
   "source": [
    "#Feature Engineering\n",
    "data_tech['gender'] = data_tech['gender'].map({'Male': 1, 'Female': 2, 'Other': 3})\n",
    "data_tech['family_history'] = data_tech['family_history'].map({'Yes': 1, 'No': 0})\n",
    "data_tech['remote_work'] = data_tech['remote_work'].map({'Yes': 1, 'No': 0})\n",
    "data_tech['self_employed'] = data_tech['self_employed'].map({'Yes': 1, 'No': 0})\n",
    "data_tech['treatment'] = data_tech['treatment'].map({'Yes': 1, 'No': 0})\n",
    "\n",
    "data_tech['mental_vs_physical'] = data_tech['mental_vs_physical'].map({'Yes': 1, 'No': 2, \"Don't know\": 3})\n",
    "data_tech['issue'] = data_tech['issue'].map({'Yes': 1, 'No': 0})"
   ]
  },
  {
   "cell_type": "code",
   "execution_count": 4,
   "metadata": {},
   "outputs": [
    {
     "name": "stdout",
     "output_type": "stream",
     "text": [
      "Observed Prevalence: 0.786771964461994\n",
      "Observed Test Statistic: 0.236771964461994\n",
      "Prevalance: 0.55\n"
     ]
    }
   ],
   "source": [
    "observed = data_tech.loc[data_tech['issue'] == 1].shape[0]/(data_tech.shape[0])\n",
    "print(\"Observed Prevalence:\",observed) \n",
    "observed_distance = abs(observed - 0.55)\n",
    "print(\"Observed Test Statistic:\",observed_distance)\n",
    "print(\"Prevalance: 0.55\" )"
   ]
  },
  {
   "cell_type": "code",
   "execution_count": 5,
   "metadata": {},
   "outputs": [],
   "source": [
    "issue_proportions = [.45, .55] # without and with issues\n",
    "\n",
    "def issue_statistic():\n",
    "    simulated_stat= np.random.multinomial(1000, issue_proportions, size=1)\n",
    "    obs = simulated_stat[0][1]/1000\n",
    "    abs_diff = abs(obs - 0.55)\n",
    "    return abs_diff # statistic\n",
    "\n",
    "x = issue_statistic()"
   ]
  },
  {
   "cell_type": "code",
   "execution_count": 6,
   "metadata": {},
   "outputs": [
    {
     "name": "stdout",
     "output_type": "stream",
     "text": [
      "\n",
      "Simulated Statistics: [0.013 0.006 0.013 ... 0.012 0.007 0.014]\n"
     ]
    }
   ],
   "source": [
    "# Here we want to get 10000 values for the test statistic, which forms an empirical distribution\n",
    "issue_simulated_stats = []\n",
    "\n",
    "for i in np.arange(10000): \n",
    "    issue_simulated_stats = np.append(issue_simulated_stats, issue_statistic())\n",
    "\n",
    "print(\"\\nSimulated Statistics:\",issue_simulated_stats)"
   ]
  },
  {
   "cell_type": "code",
   "execution_count": 9,
   "metadata": {},
   "outputs": [
    {
     "data": {
      "image/png": "[encoded data removed]",
      "text/plain": [
       "<Figure size 576x432 with 1 Axes>"
      ]
     },
     "metadata": {
      "needs_background": "light"
     },
     "output_type": "display_data"
    }
   ],
   "source": [
    "plt.figure(figsize=(8,6))\n",
    "result = plt.hist(issue_simulated_stats, density=True, color='c', edgecolor='k')\n",
    "plt.axvline(observed_distance, color='red', linestyle='dashed', linewidth=3)\n",
    "plt.title('Simulated Values of Statistic')\n",
    "plt.ylabel('Proportion per Unit')\n",
    "plt.xlabel('Simulated Distance')\n",
    "plt.show()"
   ]
  },
  {
   "cell_type": "code",
   "execution_count": 8,
   "metadata": {},
   "outputs": [
    {
     "name": "stdout",
     "output_type": "stream",
     "text": [
      "P-value: 0.0\n"
     ]
    }
   ],
   "source": [
    "# P-value\n",
    "print(\"P-value:\",np.count_nonzero(issue_simulated_stats >= observed_distance)/10000)"
   ]
  },
  {
   "cell_type": "markdown",
   "metadata": {},
   "source": [
    "The <b>p-value</b> is a measure of the probability that an observed difference could have occurred just by random chance.\n",
    "The p-value we get suggests it is not possible that the obversed difference could have occured by mere chance. In our <b>null hypothesis</b>, we suggested that the probabilities between an employee in the survey having mental health issues and and an employee in the population having mental health issues are equivalent, and any difference is due to chance only.\n",
    "However, our statistical inference states otherwise. It urges us to <b>reject</b> the null hypothesis in favor of the <b>alternative</b>"
   ]
  },
  {
   "cell_type": "markdown",
   "metadata": {},
   "source": [
    "#### Why could this have occured?"
   ]
  },
  {
   "cell_type": "markdown",
   "metadata": {},
   "source": [
    "1) The data that we have is from 2014, and dominated by citizens in the United States. (Bias w.r.t demography, as well as age and gender)\n",
    "\n",
    "\n",
    "2) The target label (whether an employee has mental health issues or not) was self-inferred and self-added to the dataset. There was no definite target variable in the dataset available prior to EDA and cleaning. We used 'No Response' from one of the important columns as an indicator whether an employee had mental health issues or not, and added a new feature which we labeled as 'issue'. The same feature was then used as our target, from where we derived our observed prevalence and thus the observed test statistics.  "
   ]
  },
  {
   "cell_type": "code",
   "execution_count": null,
   "metadata": {},
   "outputs": [],
   "source": []
  }
 ],
 "metadata": {
  "kernelspec": {
   "display_name": "Python 3",
   "language": "python",
   "name": "python3"
  },
  "language_info": {
   "codemirror_mode": {
    "name": "ipython",
    "version": 3
   },
   "file_extension": ".py",
   "mimetype": "text/x-python",
   "name": "python",
   "nbconvert_exporter": "python",
   "pygments_lexer": "ipython3",
   "version": "3.7.4"
  }
 },
 "nbformat": 4,
 "nbformat_minor": 2
}
